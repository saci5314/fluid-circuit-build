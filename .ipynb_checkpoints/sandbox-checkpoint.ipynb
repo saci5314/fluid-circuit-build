{
 "cells": [
  {
   "cell_type": "markdown",
   "id": "9d8b7a82-011c-45bc-ba4f-1d6e298bf7e4",
   "metadata": {},
   "source": [
    "### Testing meshing functionality via dumb circuit:"
   ]
  },
  {
   "cell_type": "code",
   "execution_count": 78,
   "id": "fa12df63-ce88-45d4-8561-ee8eef9e5432",
   "metadata": {},
   "outputs": [
    {
     "name": "stdout",
     "output_type": "stream",
     "text": [
      "Bulk nodes:  [1, 2, 3, 4]\n",
      "Boundary nodes:  [0, 5]\n",
      "\n",
      "Nodes by element: \n",
      "-----------------\n",
      "COMP-1: [0, 1, 2]\n",
      "COMP-2: [1, 3]\n",
      "COMP-3: [2, 4]\n",
      "COMP-4: [3, 4, 5]\n",
      "\n",
      "Neighbors by element: \n",
      "---------------------\n",
      "COMP-1:\n",
      "   Port 0: Boundary\n",
      "   Port 1: COMP-2\n",
      "   Port 2: COMP-3\n",
      "COMP-2:\n",
      "   Port 0: COMP-1\n",
      "   Port 1: COMP-4\n",
      "COMP-3:\n",
      "   Port 0: COMP-1\n",
      "   Port 1: COMP-4\n",
      "COMP-4:\n",
      "   Port 0: COMP-2\n",
      "   Port 1: COMP-3\n",
      "   Port 2: Boundary\n"
     ]
    }
   ],
   "source": [
    "import network\n",
    "\n",
    "# Annoying re-import stuff\n",
    "import importlib\n",
    "importlib.reload(network)\n",
    "\n",
    "# Instantiate test elements using base class\n",
    "component_1 = element(\"COMP-1\", 3)\n",
    "component_2 = element(\"COMP-2\", 2)\n",
    "component_3 = element(\"COMP-3\", 2)\n",
    "component_4 = element(\"COMP-4\", 3)\n",
    "\n",
    "# Connect them into a thing that looks like the above diagram\n",
    "component_1.tie_in(component_2, 1, 0)\n",
    "component_1.tie_in(component_3, 2, 0)\n",
    "component_2.tie_in(component_4, 1, 0)\n",
    "component_3.tie_in(component_4, 1, 1)\n",
    "\n",
    "# Create network (meshing)\n",
    "circuit = network.network(component_1)\n",
    "circuit.mesh_checks()"
   ]
  },
  {
   "cell_type": "code",
   "execution_count": null,
   "id": "f205f0ed-820b-4f60-9f13-88b203d04855",
   "metadata": {},
   "outputs": [],
   "source": []
  }
 ],
 "metadata": {
  "kernelspec": {
   "display_name": "Python 3 (ipykernel)",
   "language": "python",
   "name": "python3"
  },
  "language_info": {
   "codemirror_mode": {
    "name": "ipython",
    "version": 3
   },
   "file_extension": ".py",
   "mimetype": "text/x-python",
   "name": "python",
   "nbconvert_exporter": "python",
   "pygments_lexer": "ipython3",
   "version": "3.10.8"
  }
 },
 "nbformat": 4,
 "nbformat_minor": 5
}
