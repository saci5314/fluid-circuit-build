{
 "cells": [
  {
   "cell_type": "code",
   "execution_count": 52,
   "metadata": {},
   "outputs": [
    {
     "data": {
      "text/plain": [
       "<module 'orifice' from '/home/jovyan/fluids-build/orifice.py'>"
      ]
     },
     "execution_count": 52,
     "metadata": {},
     "output_type": "execute_result"
    }
   ],
   "source": [
    "import network\n",
    "import pipe\n",
    "import orifice\n",
    "import numpy as np\n",
    "import matplotlib.pyplot as plt\n"
   ]
  },
  {
   "cell_type": "markdown",
   "metadata": {},
   "source": [
    "## **Engine & Test Stand Design**\n",
    "---"
   ]
  },
  {
   "cell_type": "markdown",
   "metadata": {},
   "source": [
    "### *Thrust Chamber Design*"
   ]
  },
  {
   "cell_type": "code",
   "execution_count": null,
   "metadata": {},
   "outputs": [],
   "source": []
  },
  {
   "cell_type": "markdown",
   "metadata": {},
   "source": [
    "This gives us enough info to pick some suitable nozzle dimensions and discretize our cylindrical/conical thrust chamber contour:"
   ]
  },
  {
   "cell_type": "code",
   "execution_count": null,
   "metadata": {},
   "outputs": [],
   "source": []
  },
  {
   "cell_type": "markdown",
   "metadata": {},
   "source": [
    "### *Injector Design*"
   ]
  },
  {
   "cell_type": "code",
   "execution_count": 53,
   "metadata": {},
   "outputs": [],
   "source": [
    "import orifice\n",
    "\n",
    "### Geometry\n",
    "D_ox_inj = 5.75*.0254 # [m] single orifice diameter\n",
    "D_fuel_inj = 5.75*.0254 # [m] single orifice diameter\n",
    "N_inj= 18 # number of injector elements\n",
    "\n",
    "ox_inj = orifice.orifice(\"O-INJ\", D_ox_inj, N=N_inj)\n",
    "fuel_inj = orifice.orifice(\"F-INJ\", D_fuel_inj, N=N_inj)"
   ]
  },
  {
   "cell_type": "markdown",
   "metadata": {},
   "source": [
    "### *Feedline Design*"
   ]
  },
  {
   "cell_type": "markdown",
   "metadata": {},
   "source": [
    "The feedlines are treated by the pipe object, which contains analytical methods for pipe friction, bend, and head loads. "
   ]
  },
  {
   "cell_type": "code",
   "execution_count": 4,
   "metadata": {},
   "outputs": [
    {
     "ename": "NameError",
     "evalue": "name 'pipe' is not defined",
     "output_type": "error",
     "traceback": [
      "\u001b[0;31m---------------------------------------------------------------------------\u001b[0m",
      "\u001b[0;31mNameError\u001b[0m                                 Traceback (most recent call last)",
      "Cell \u001b[0;32mIn[4], line 13\u001b[0m\n\u001b[1;32m     10\u001b[0m epsilon_ox_fl \u001b[38;5;241m=\u001b[39m \u001b[38;5;241m.002\u001b[39m\u001b[38;5;241m*\u001b[39m\u001b[38;5;241m.0254\u001b[39m \u001b[38;5;66;03m# [m] pipe surface roughness\u001b[39;00m\n\u001b[1;32m     12\u001b[0m \u001b[38;5;66;03m# element construction\u001b[39;00m\n\u001b[0;32m---> 13\u001b[0m ox_feedline \u001b[38;5;241m=\u001b[39m pipe(\u001b[38;5;124m\"\u001b[39m\u001b[38;5;124mOFL\u001b[39m\u001b[38;5;124m\"\u001b[39m, D_ox_fl, L_ox_fl)\n\u001b[1;32m     14\u001b[0m ox_feedline\u001b[38;5;241m.\u001b[39madd_head(h_ox_fl)\n\u001b[1;32m     15\u001b[0m ox_feedline\u001b[38;5;241m.\u001b[39madd_bend(r_bend_ox_fl, a_bend_ox_fl)\n",
      "\u001b[0;31mNameError\u001b[0m: name 'pipe' is not defined"
     ]
    }
   ],
   "source": [
    "### L02 feedline\n",
    "### ------------\n",
    "\n",
    "# geometry(OFL)\n",
    "D_ox_fl = .480*.0254 # [m] inner diameter\n",
    "L_ox_fl = 30*.0254 # [m] length\n",
    "h_ox_fl = -6 # [m] head from inlet to outlet\n",
    "r_bend_ox_fl = 2.5*.0254 # [m] single bend radius\n",
    "a_bend_ox_fl = 90 # [deg] single bend arclength\n",
    "epsilon_ox_fl = .002*.0254 # [m] pipe surface roughness\n",
    "\n",
    "# element construction\n",
    "ox_feedline = pipe(\"O-FL\", D_ox_fl, L_ox_fl)\n",
    "ox_feedline.add_head(h_ox_fl)\n",
    "ox_feedline.add_bend(r_bend_ox_fl, a_bend_ox_fl)\n",
    "ox_feedline.add_darcy_friction(epsilon_ox_fl)\n",
    "\n",
    "# plotting friction stuff\n",
    "ox_feedline.moody_diagram()\n",
    "\n",
    "### Jet-A feedline geometry (FFL)\n",
    "D_fuel_fl = .480*.0254 # [m] inner diameter\n",
    "L_fuel_fl = 45*.0254 # [m] length\n",
    "h_fuel_fl = -12*.0254 # [m] head from inlet to outlet\n",
    "r_bend_fuel_fl = 2.5*.0254 # [m] single bend radius\n",
    "a_bend_fuel_fl = 90 # [deg] single bend arclength\n",
    "epsilon_fuel_fl = .002*.0254 # [m] pipe surface roughness\n",
    "\n",
    "### Feedline element construction\n",
    "fuel_feedline = pipe(\"F-FL\", D_fuel_fl, L_fuel_fl)\n",
    "fuel_feedline.add_head(h_fuel_fl)\n",
    "fuel_feedline.add_bend(r_bend_fuel_fl, a_bend_fuel_fl)\n",
    "fuel_feedline.add_darcy_friction(epsilon_fuel_fl)\n",
    "\n",
    "# plotting friction stuff\n",
    "# ox_feedline.moody_diagram()"
   ]
  },
  {
   "cell_type": "markdown",
   "metadata": {},
   "source": [
    "### *Tank Design*"
   ]
  },
  {
   "cell_type": "markdown",
   "metadata": {},
   "source": [
    "### *Press System Design*"
   ]
  },
  {
   "cell_type": "code",
   "execution_count": null,
   "metadata": {},
   "outputs": [],
   "source": [
    "# (TODO) (fml)"
   ]
  },
  {
   "cell_type": "markdown",
   "metadata": {},
   "source": [
    "## **Building Lumped Element Mesh**\n",
    "---"
   ]
  },
  {
   "cell_type": "markdown",
   "metadata": {},
   "source": [
    "Now we have all these components defined. They each contain information intrinsic to their geometry, and some target operating conditions for the thrust chamber. As one would build a fluid system, we \"tie in\" components together, linking them by their common connections."
   ]
  },
  {
   "cell_type": "code",
   "execution_count": null,
   "metadata": {},
   "outputs": [],
   "source": [
    "nozzle.connect(ox_in)"
   ]
  },
  {
   "cell_type": "markdown",
   "metadata": {},
   "source": [
    "## **Steady-state Solutions**\n",
    "---"
   ]
  },
  {
   "cell_type": "markdown",
   "metadata": {},
   "source": []
  },
  {
   "cell_type": "code",
   "execution_count": null,
   "metadata": {},
   "outputs": [],
   "source": []
  },
  {
   "cell_type": "markdown",
   "metadata": {},
   "source": [
    "# **Frequency Domain Analysis**\n",
    "---"
   ]
  },
  {
   "cell_type": "markdown",
   "metadata": {},
   "source": []
  },
  {
   "cell_type": "code",
   "execution_count": null,
   "metadata": {},
   "outputs": [],
   "source": []
  },
  {
   "cell_type": "markdown",
   "metadata": {},
   "source": [
    "# **Transient Solutions**\n",
    "---"
   ]
  },
  {
   "cell_type": "markdown",
   "metadata": {},
   "source": []
  },
  {
   "cell_type": "code",
   "execution_count": null,
   "metadata": {},
   "outputs": [],
   "source": []
  },
  {
   "cell_type": "markdown",
   "metadata": {},
   "source": [
    "# **Cold flow Testing Data**\n",
    "---"
   ]
  },
  {
   "cell_type": "markdown",
   "metadata": {},
   "source": []
  },
  {
   "cell_type": "markdown",
   "metadata": {},
   "source": [
    "# **Static Fire Attempt 2**\n",
    "---"
   ]
  },
  {
   "cell_type": "markdown",
   "metadata": {},
   "source": []
  },
  {
   "cell_type": "code",
   "execution_count": null,
   "metadata": {},
   "outputs": [],
   "source": []
  },
  {
   "cell_type": "markdown",
   "metadata": {},
   "source": [
    "# **Static Fire Attempt 3**\n",
    "---"
   ]
  },
  {
   "cell_type": "markdown",
   "metadata": {},
   "source": []
  },
  {
   "cell_type": "markdown",
   "metadata": {},
   "source": [
    "# **Static Fire Attempt 4**\n",
    "---"
   ]
  }
 ],
 "metadata": {
  "kernelspec": {
   "display_name": "Python 3 (ipykernel)",
   "language": "python",
   "name": "python3"
  },
  "language_info": {
   "codemirror_mode": {
    "name": "ipython",
    "version": 3
   },
   "file_extension": ".py",
   "mimetype": "text/x-python",
   "name": "python",
   "nbconvert_exporter": "python",
   "pygments_lexer": "ipython3",
   "version": "3.10.8"
  }
 },
 "nbformat": 4,
 "nbformat_minor": 4
}
